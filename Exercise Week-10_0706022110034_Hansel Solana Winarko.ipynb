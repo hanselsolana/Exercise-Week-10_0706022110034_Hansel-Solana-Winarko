{
 "cells": [
  {
   "cell_type": "code",
   "execution_count": 28,
   "metadata": {
    "colab": {
     "base_uri": "https://localhost:8080/"
    },
    "id": "JuFb1MP_O5EW",
    "outputId": "17a158d8-8df8-4af8-d8cb-b15b95e590c3"
   },
   "outputs": [
    {
     "name": "stdout",
     "output_type": "stream",
     "text": [
      "Requirement already satisfied: mlxtend in c:\\users\\asus\\anaconda3\\lib\\site-packages (0.23.0)\n",
      "Requirement already satisfied: scikit-learn>=1.0.2 in c:\\users\\asus\\anaconda3\\lib\\site-packages (from mlxtend) (1.0.2)\n",
      "Requirement already satisfied: joblib>=0.13.2 in c:\\users\\asus\\anaconda3\\lib\\site-packages (from mlxtend) (1.1.0)\n",
      "Requirement already satisfied: pandas>=0.24.2 in c:\\users\\asus\\anaconda3\\lib\\site-packages (from mlxtend) (1.4.2)\n",
      "Requirement already satisfied: matplotlib>=3.0.0 in c:\\users\\asus\\anaconda3\\lib\\site-packages (from mlxtend) (3.5.1)\n",
      "Requirement already satisfied: numpy>=1.16.2 in c:\\users\\asus\\anaconda3\\lib\\site-packages (from mlxtend) (1.21.5)\n",
      "Requirement already satisfied: scipy>=1.2.1 in c:\\users\\asus\\anaconda3\\lib\\site-packages (from mlxtend) (1.7.3)\n",
      "Requirement already satisfied: pyparsing>=2.2.1 in c:\\users\\asus\\anaconda3\\lib\\site-packages (from matplotlib>=3.0.0->mlxtend) (3.0.4)\n",
      "Requirement already satisfied: cycler>=0.10 in c:\\users\\asus\\anaconda3\\lib\\site-packages (from matplotlib>=3.0.0->mlxtend) (0.11.0)\n",
      "Requirement already satisfied: fonttools>=4.22.0 in c:\\users\\asus\\anaconda3\\lib\\site-packages (from matplotlib>=3.0.0->mlxtend) (4.25.0)\n",
      "Requirement already satisfied: python-dateutil>=2.7 in c:\\users\\asus\\anaconda3\\lib\\site-packages (from matplotlib>=3.0.0->mlxtend) (2.8.2)\n",
      "Requirement already satisfied: kiwisolver>=1.0.1 in c:\\users\\asus\\anaconda3\\lib\\site-packages (from matplotlib>=3.0.0->mlxtend) (1.3.2)\n",
      "Requirement already satisfied: packaging>=20.0 in c:\\users\\asus\\anaconda3\\lib\\site-packages (from matplotlib>=3.0.0->mlxtend) (21.3)\n",
      "Requirement already satisfied: pillow>=6.2.0 in c:\\users\\asus\\anaconda3\\lib\\site-packages (from matplotlib>=3.0.0->mlxtend) (9.0.1)\n",
      "Requirement already satisfied: pytz>=2020.1 in c:\\users\\asus\\anaconda3\\lib\\site-packages (from pandas>=0.24.2->mlxtend) (2021.3)\n",
      "Requirement already satisfied: six>=1.5 in c:\\users\\asus\\anaconda3\\lib\\site-packages (from python-dateutil>=2.7->matplotlib>=3.0.0->mlxtend) (1.16.0)\n",
      "Requirement already satisfied: threadpoolctl>=2.0.0 in c:\\users\\asus\\anaconda3\\lib\\site-packages (from scikit-learn>=1.0.2->mlxtend) (2.2.0)\n"
     ]
    }
   ],
   "source": [
    "import pandas as pd\n",
    "import numpy as np\n",
    "from matplotlib import pyplot as plt\n",
    "from mlxtend.preprocessing import TransactionEncoder\n",
    "from mlxtend.frequent_patterns import apriori\n",
    "\n",
    "! pip install mlxtend"
   ]
  },
  {
   "cell_type": "markdown",
   "metadata": {
    "id": "wDYkmRlZPSXY"
   },
   "source": [
    "# Association Rule for Store Dataset"
   ]
  },
  {
   "cell_type": "markdown",
   "metadata": {
    "id": "IYfOAa9fPjln"
   },
   "source": [
    "In this case study, we will explore how association rule can be used to analyze the items that are usualy purcased together.\n",
    "\n",
    "you can refer to this article to find out about apriori and association rule:\n",
    "https://rasbt.github.io/mlxtend/user_guide/frequent_patterns/apriori/\n",
    "https://rasbt.github.io/mlxtend/user_guide/frequent_patterns/association_rules/"
   ]
  },
  {
   "cell_type": "markdown",
   "metadata": {
    "id": "7EOg6BIYPxt4"
   },
   "source": [
    "## Load Data"
   ]
  },
  {
   "cell_type": "markdown",
   "metadata": {
    "id": "Gp0OZCjrQT1n"
   },
   "source": [
    "We will use the dataset of the transaction in a certain store. You can get the dataset here: \n",
    "https://gist.githubusercontent.com/Harsh-Git-Hub/2979ec48043928ad9033d8469928e751/raw/72de943e040b8bd0d087624b154d41b2ba9d9b60/retail_dataset.csv"
   ]
  },
  {
   "cell_type": "code",
   "execution_count": 11,
   "metadata": {
    "colab": {
     "base_uri": "https://localhost:8080/",
     "height": 204
    },
    "id": "LDF65VBRQjFL",
    "outputId": "e9c6b17c-3450-4b26-af48-e963cc0dd11b"
   },
   "outputs": [
    {
     "data": {
      "text/html": [
       "<div>\n",
       "<style scoped>\n",
       "    .dataframe tbody tr th:only-of-type {\n",
       "        vertical-align: middle;\n",
       "    }\n",
       "\n",
       "    .dataframe tbody tr th {\n",
       "        vertical-align: top;\n",
       "    }\n",
       "\n",
       "    .dataframe thead th {\n",
       "        text-align: right;\n",
       "    }\n",
       "</style>\n",
       "<table border=\"1\" class=\"dataframe\">\n",
       "  <thead>\n",
       "    <tr style=\"text-align: right;\">\n",
       "      <th></th>\n",
       "      <th>0</th>\n",
       "      <th>1</th>\n",
       "      <th>2</th>\n",
       "      <th>3</th>\n",
       "      <th>4</th>\n",
       "      <th>5</th>\n",
       "      <th>6</th>\n",
       "    </tr>\n",
       "  </thead>\n",
       "  <tbody>\n",
       "    <tr>\n",
       "      <th>0</th>\n",
       "      <td>Bread</td>\n",
       "      <td>Wine</td>\n",
       "      <td>Eggs</td>\n",
       "      <td>Meat</td>\n",
       "      <td>Cheese</td>\n",
       "      <td>Pencil</td>\n",
       "      <td>Diaper</td>\n",
       "    </tr>\n",
       "    <tr>\n",
       "      <th>1</th>\n",
       "      <td>Bread</td>\n",
       "      <td>Cheese</td>\n",
       "      <td>Meat</td>\n",
       "      <td>Diaper</td>\n",
       "      <td>Wine</td>\n",
       "      <td>Milk</td>\n",
       "      <td>Pencil</td>\n",
       "    </tr>\n",
       "    <tr>\n",
       "      <th>2</th>\n",
       "      <td>Cheese</td>\n",
       "      <td>Meat</td>\n",
       "      <td>Eggs</td>\n",
       "      <td>Milk</td>\n",
       "      <td>Wine</td>\n",
       "      <td>NaN</td>\n",
       "      <td>NaN</td>\n",
       "    </tr>\n",
       "    <tr>\n",
       "      <th>3</th>\n",
       "      <td>Cheese</td>\n",
       "      <td>Meat</td>\n",
       "      <td>Eggs</td>\n",
       "      <td>Milk</td>\n",
       "      <td>Wine</td>\n",
       "      <td>NaN</td>\n",
       "      <td>NaN</td>\n",
       "    </tr>\n",
       "    <tr>\n",
       "      <th>4</th>\n",
       "      <td>Meat</td>\n",
       "      <td>Pencil</td>\n",
       "      <td>Wine</td>\n",
       "      <td>NaN</td>\n",
       "      <td>NaN</td>\n",
       "      <td>NaN</td>\n",
       "      <td>NaN</td>\n",
       "    </tr>\n",
       "  </tbody>\n",
       "</table>\n",
       "</div>"
      ],
      "text/plain": [
       "        0       1     2       3       4       5       6\n",
       "0   Bread    Wine  Eggs    Meat  Cheese  Pencil  Diaper\n",
       "1   Bread  Cheese  Meat  Diaper    Wine    Milk  Pencil\n",
       "2  Cheese    Meat  Eggs    Milk    Wine     NaN     NaN\n",
       "3  Cheese    Meat  Eggs    Milk    Wine     NaN     NaN\n",
       "4    Meat  Pencil  Wine     NaN     NaN     NaN     NaN"
      ]
     },
     "execution_count": 11,
     "metadata": {},
     "output_type": "execute_result"
    }
   ],
   "source": [
    "# load the data set and show the first five transaction\n",
    "df = pd.read_csv('https://gist.githubusercontent.com/Harsh-Git-Hub/2979ec48043928ad9033d8469928e751/raw/72de943e040b8bd0d087624b154d41b2ba9d9b60/retail_dataset.csv')\n",
    "df.head()"
   ]
  },
  {
   "cell_type": "markdown",
   "metadata": {
    "id": "IkfhUabDQup9"
   },
   "source": [
    "# Get the set of product that has been purchased\n"
   ]
  },
  {
   "cell_type": "markdown",
   "metadata": {},
   "source": [
    "Get the unique product that has been purchased"
   ]
  },
  {
   "cell_type": "code",
   "execution_count": 17,
   "metadata": {
    "colab": {
     "base_uri": "https://localhost:8080/"
    },
    "id": "Awz6VzuMwR_-",
    "outputId": "1fc181b3-cffe-48fe-9d3b-066323061907"
   },
   "outputs": [
    {
     "name": "stdout",
     "output_type": "stream",
     "text": [
      "{'Milk', 'Meat', 'Cheese', 'Wine', 'Diaper', 'Bread', 'Pencil', 'Eggs'}\n"
     ]
    }
   ],
   "source": [
    "unique_products = df.stack().dropna().unique()\n",
    "print(set(unique_products))"
   ]
  },
  {
   "cell_type": "markdown",
   "metadata": {
    "id": "M4g4k83bP07H"
   },
   "source": [
    "## Preprocess Data"
   ]
  },
  {
   "cell_type": "markdown",
   "metadata": {
    "id": "GEnL1bXtRLXe"
   },
   "source": [
    "In this step, we will transform our dataset so that we will have a one hot encoding based on the purchased products."
   ]
  },
  {
   "cell_type": "code",
   "execution_count": 23,
   "metadata": {
    "id": "N4wdVmFWQ_yg"
   },
   "outputs": [],
   "source": [
    "#create an itemset based on the products\n",
    "\n",
    "\n",
    "# encoding the feature\n",
    "one_hot_encoded = pd.get_dummies(df.stack().dropna()).groupby(level = 0).max()\n",
    "\n"
   ]
  },
  {
   "cell_type": "code",
   "execution_count": 26,
   "metadata": {
    "colab": {
     "base_uri": "https://localhost:8080/",
     "height": 204
    },
    "id": "v67eBdxByEJX",
    "outputId": "b05c05fb-7ae1-4fbe-a01a-d6985c360f5e"
   },
   "outputs": [
    {
     "name": "stdout",
     "output_type": "stream",
     "text": [
      "   Bread  Cheese  Meat  Wine  Pencil  Eggs  Diaper  Milk\n",
      "0      1       1     1     0       0     0       0     0\n",
      "1      0       1     1     1       1     0       0     0\n",
      "2      0       0     1     1       0     1       0     0\n",
      "3      0       0     1     0       0     0       1     1\n",
      "4      0       1     0     1       0     0       0     0\n",
      "5      0       0     0     0       1     0       0     1\n",
      "6      0       0     0     0       1     0       1     0\n"
     ]
    }
   ],
   "source": [
    "  # create new dataframe from the encoded features\n",
    "unique_products_order = df.stack().dropna().unique()\n",
    "itemset = one_hot_encoded.reindex(columns = unique_products_order, fill_value = 0)\n",
    "  # show the new dataframe\n",
    "print(itemset)"
   ]
  },
  {
   "cell_type": "markdown",
   "metadata": {
    "id": "lBJmzWAAS4Mw"
   },
   "source": [
    "Since, the encoded dataframe consist of the empty column. We will drop the NaN column or select all columns other than the first column."
   ]
  },
  {
   "cell_type": "code",
   "execution_count": 27,
   "metadata": {
    "colab": {
     "base_uri": "https://localhost:8080/",
     "height": 204
    },
    "id": "2eHZu15xyTqm",
    "outputId": "7bffff16-fc02-48fe-bc98-7616bf75908e"
   },
   "outputs": [
    {
     "name": "stdout",
     "output_type": "stream",
     "text": [
      "   Cheese  Meat  Wine  Pencil  Eggs  Diaper  Milk\n",
      "0       1     1     0       0     0       0     0\n",
      "1       1     1     1       1     0       0     0\n",
      "2       0     1     1       0     1       0     0\n",
      "3       0     1     0       0     0       1     1\n",
      "4       1     0     1       0     0       0     0\n",
      "5       0     0     0       1     0       0     1\n",
      "6       0     0     0       1     0       1     0\n"
     ]
    }
   ],
   "source": [
    "itemset_cleaned = itemset.iloc[:, 1:]\n",
    "print(itemset_cleaned)"
   ]
  },
  {
   "cell_type": "markdown",
   "metadata": {
    "id": "_UXDzSNPP35P"
   },
   "source": [
    "## Apriori Algorithm"
   ]
  },
  {
   "cell_type": "markdown",
   "metadata": {
    "id": "K-jD3ea4TYMV"
   },
   "source": [
    "We will use appriori algorithm to determine the frequently purchased products. \n",
    "For this case study, we will min_support=0.2"
   ]
  },
  {
   "cell_type": "code",
   "execution_count": 41,
   "metadata": {
    "colab": {
     "base_uri": "https://localhost:8080/",
     "height": 1000
    },
    "id": "BLA4Jqhoyjof",
    "outputId": "bc435206-1be2-41e6-b05b-0f1ba125e955",
    "scrolled": true
   },
   "outputs": [
    {
     "name": "stdout",
     "output_type": "stream",
     "text": [
      "     support              itemsets\n",
      "0   0.425397               (Bagel)\n",
      "1   0.504762               (Bread)\n",
      "2   0.501587              (Cheese)\n",
      "3   0.406349              (Diaper)\n",
      "4   0.438095                (Eggs)\n",
      "5   0.476190                (Meat)\n",
      "6   0.501587                (Milk)\n",
      "7   0.869841                 (NaN)\n",
      "8   0.361905              (Pencil)\n",
      "9   0.438095                (Wine)\n",
      "10  0.279365        (Bread, Bagel)\n",
      "11  0.225397         (Milk, Bagel)\n",
      "12  0.336508          (Bagel, NaN)\n",
      "13  0.238095       (Bread, Cheese)\n",
      "14  0.231746       (Bread, Diaper)\n",
      "15  0.206349         (Bread, Meat)\n",
      "16  0.279365         (Bread, Milk)\n",
      "17  0.396825          (Bread, NaN)\n",
      "18  0.200000       (Bread, Pencil)\n",
      "19  0.244444         (Bread, Wine)\n",
      "20  0.200000      (Cheese, Diaper)\n",
      "21  0.298413        (Cheese, Eggs)\n",
      "22  0.323810        (Meat, Cheese)\n",
      "23  0.304762        (Milk, Cheese)\n",
      "24  0.393651         (Cheese, NaN)\n",
      "25  0.200000      (Cheese, Pencil)\n",
      "26  0.269841        (Cheese, Wine)\n",
      "27  0.317460         (NaN, Diaper)\n",
      "28  0.234921        (Wine, Diaper)\n",
      "29  0.266667          (Meat, Eggs)\n",
      "30  0.244444          (Milk, Eggs)\n",
      "31  0.336508           (NaN, Eggs)\n",
      "32  0.241270          (Wine, Eggs)\n",
      "33  0.244444          (Meat, Milk)\n",
      "34  0.368254           (Meat, NaN)\n",
      "35  0.250794          (Meat, Wine)\n",
      "36  0.409524           (Milk, NaN)\n",
      "37  0.219048          (Milk, Wine)\n",
      "38  0.266667         (Pencil, NaN)\n",
      "39  0.317460           (Wine, NaN)\n",
      "40  0.200000        (Pencil, Wine)\n",
      "41  0.212698   (Bread, Bagel, NaN)\n",
      "42  0.215873  (Meat, Cheese, Eggs)\n",
      "43  0.219048   (Cheese, NaN, Eggs)\n",
      "44  0.203175  (Meat, Cheese, Milk)\n",
      "45  0.234921   (Meat, Cheese, NaN)\n",
      "46  0.234921   (Milk, Cheese, NaN)\n",
      "\n"
     ]
    }
   ],
   "source": [
    "transactions = df.applymap(lambda x: str(x) if pd.notna(x) else 'NaN').values.tolist()\n",
    "te = TransactionEncoder()\n",
    "one_hot_encoded = te.fit(transactions).transform(transactions)\n",
    "df_one_hot = pd.DataFrame(one_hot_encoded, columns=te.columns_)\n",
    "frequent_itemsets = apriori(df_one_hot, min_support=0.2, use_colnames=True)\n",
    "rules = association_rules(frequent_itemsets, metric=\"support\", min_threshold=0.2)\n",
    "print(frequent_itemsets)\n",
    "print()"
   ]
  },
  {
   "cell_type": "markdown",
   "metadata": {
    "id": "uEr2YXHrVOIA"
   },
   "source": [
    "Then, we will generate association rule of the frequent itemset based on confidence level with the threshold=0.6"
   ]
  },
  {
   "cell_type": "code",
   "execution_count": 43,
   "metadata": {
    "colab": {
     "base_uri": "https://localhost:8080/",
     "height": 482
    },
    "id": "5GalSXOoy6H8",
    "outputId": "2fc5a421-bca1-41c8-f96a-e24f49280d99"
   },
   "outputs": [
    {
     "name": "stdout",
     "output_type": "stream",
     "text": [
      "       antecedents consequents   support  confidence      lift\n",
      "0          (Bagel)     (Bread)  0.279365    0.656716  1.301042\n",
      "1          (Bagel)       (NaN)  0.336508    0.791045  0.909413\n",
      "2          (Bread)       (NaN)  0.396825    0.786164  0.903801\n",
      "3           (Eggs)    (Cheese)  0.298413    0.681159  1.358008\n",
      "4           (Meat)    (Cheese)  0.323810    0.680000  1.355696\n",
      "5         (Cheese)      (Meat)  0.323810    0.645570  1.355696\n",
      "6           (Milk)    (Cheese)  0.304762    0.607595  1.211344\n",
      "7         (Cheese)      (Milk)  0.304762    0.607595  1.211344\n",
      "8         (Cheese)       (NaN)  0.393651    0.784810  0.902245\n",
      "9           (Wine)    (Cheese)  0.269841    0.615942  1.227986\n",
      "10        (Diaper)       (NaN)  0.317460    0.781250  0.898152\n",
      "11          (Eggs)      (Meat)  0.266667    0.608696  1.278261\n",
      "12          (Eggs)       (NaN)  0.336508    0.768116  0.883053\n",
      "13          (Meat)       (NaN)  0.368254    0.773333  0.889051\n",
      "14          (Milk)       (NaN)  0.409524    0.816456  0.938626\n",
      "15        (Pencil)       (NaN)  0.266667    0.736842  0.847100\n",
      "16          (Wine)       (NaN)  0.317460    0.724638  0.833069\n",
      "17  (Bread, Bagel)       (NaN)  0.212698    0.761364  0.875290\n",
      "18    (Bagel, NaN)     (Bread)  0.212698    0.632075  1.252225\n",
      "19  (Meat, Cheese)      (Eggs)  0.215873    0.666667  1.521739\n",
      "20    (Meat, Eggs)    (Cheese)  0.215873    0.809524  1.613924\n",
      "21  (Cheese, Eggs)      (Meat)  0.215873    0.723404  1.519149\n",
      "22  (Cheese, Eggs)       (NaN)  0.219048    0.734043  0.843881\n",
      "23     (Eggs, NaN)    (Cheese)  0.219048    0.650943  1.297767\n",
      "24  (Meat, Cheese)      (Milk)  0.203175    0.627451  1.250931\n",
      "25    (Meat, Milk)    (Cheese)  0.203175    0.831169  1.657077\n",
      "26  (Milk, Cheese)      (Meat)  0.203175    0.666667  1.400000\n",
      "27  (Meat, Cheese)       (NaN)  0.234921    0.725490  0.834049\n",
      "28     (Meat, NaN)    (Cheese)  0.234921    0.637931  1.271825\n",
      "29  (Milk, Cheese)       (NaN)  0.234921    0.770833  0.886177\n"
     ]
    }
   ],
   "source": [
    "transactions = df.applymap(lambda x: str(x) if pd.notna(x) else 'NaN').values.tolist()\n",
    "te = TransactionEncoder()\n",
    "one_hot_encoded = te.fit(transactions).transform(transactions)\n",
    "df_one_hot = pd.DataFrame(one_hot_encoded, columns=te.columns_)\n",
    "frequent_itemsets = apriori(df_one_hot, min_support=0.2, use_colnames=True)\n",
    "rules = association_rules(frequent_itemsets, metric=\"confidence\", min_threshold=0.6)\n",
    "print(rules[['antecedents', 'consequents', 'support', 'confidence', 'lift']])"
   ]
  },
  {
   "cell_type": "markdown",
   "metadata": {},
   "source": [
    "Provide explanation about __antecedent support__, __consequent support__, __support__, __confidence__, __lift__, __leverage__ and __conviction__"
   ]
  },
  {
   "cell_type": "markdown",
   "metadata": {},
   "source": []
  },
  {
   "cell_type": "code",
   "execution_count": null,
   "metadata": {},
   "outputs": [],
   "source": [
    "# Antecedent Support (antecedent support):\n",
    "The proportion of transactions in the dataset that contain the antecedent (the items on the left-hand side of the rule).\n",
    "\n",
    "# Consequent Support (consequent support):\n",
    "The proportion of transactions in the dataset that contain the consequent (the items on the right-hand side of the rule).\n",
    "   \n",
    "# Support (support):\n",
    "The proportion of transactions in the dataset that contain both the antecedent and the consequent.\n",
    "    \n",
    "# Confidence (confidence):\n",
    "Confidence measures how often the rule has been found to be true. It is the ratio of the number of transactions that include both the antecedent and the consequent to the number of transactions that include the antecedent.\n",
    "    \n",
    "# Lift (lift):\n",
    "Lift measures the ratio of the observed support to the expected support if the antecedent and consequent were independent.\n",
    "    \n",
    "# Leverage (leverage):\n",
    "Leverage measures the difference between the observed frequency of the antecedent and consequent appearing together and the frequency that would be expected if they were independent.\n",
    "    \n",
    "# Conviction (conviction):\n",
    "Conviction measures the degree of implication of the consequent from the antecedent. A high conviction means that the consequent is highly dependent on the antecedent."
   ]
  }
 ],
 "metadata": {
  "colab": {
   "provenance": []
  },
  "kernelspec": {
   "display_name": "Python 3 (ipykernel)",
   "language": "python",
   "name": "python3"
  },
  "language_info": {
   "codemirror_mode": {
    "name": "ipython",
    "version": 3
   },
   "file_extension": ".py",
   "mimetype": "text/x-python",
   "name": "python",
   "nbconvert_exporter": "python",
   "pygments_lexer": "ipython3",
   "version": "3.9.12"
  }
 },
 "nbformat": 4,
 "nbformat_minor": 4
}
